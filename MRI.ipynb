{
 "cells": [
  {
   "cell_type": "markdown",
   "id": "9f731ab8",
   "metadata": {},
   "source": [
    "# Creation Virtual Environment "
   ]
  },
  {
   "cell_type": "code",
   "execution_count": null,
   "id": "308c308d",
   "metadata": {},
   "outputs": [],
   "source": [
    "# git clone https://github.com/carpentries-incubator/SDC-BIDS-fMRI.git\n",
    "\n",
    "# module load NiaEnv/2019b python/3.6.8\n",
    "# virtualenv --system-site-packages ~/.virtualenvs/sdc_bids_fmri\n",
    "# source ~/.virtualenvs/sdc_bids_fmri/bin/activate\n",
    "\n",
    "# cd SDC-BIDS-fMRI\n",
    "# pip install -r requirements.txt\n",
    "# pip install ipykernel\n",
    "# python -m ipykernel install --user --name=sdc_bids_fmri\n",
    "\n",
    "# #to create the link in for the dataset\n",
    "# ln -s /scinet/course/ss2020/6_mripython/data/ds000030 ./data/\n",
    "\n",
    "# https://localhost:8888/?token=fill the token number "
   ]
  },
  {
   "cell_type": "markdown",
   "id": "0c0f43a5",
   "metadata": {},
   "source": [
    "# Dataset Visualization - Tree"
   ]
  },
  {
   "cell_type": "code",
   "execution_count": null,
   "id": "c3383713",
   "metadata": {},
   "outputs": [],
   "source": [
    "!tree -L 1 '../data/derivative..'\n",
    "#!tree"
   ]
  },
  {
   "cell_type": "markdown",
   "id": "d61529b4",
   "metadata": {},
   "source": [
    "# Initial Setup\n"
   ]
  },
  {
   "cell_type": "code",
   "execution_count": null,
   "id": "116d1333",
   "metadata": {},
   "outputs": [],
   "source": [
    "import bids\n",
    "import os\n",
    "import numpy as np\n",
    "import pandas as pd \n",
    "import matplotlib.pyplot as plt \n",
    "from nilearn import image as nimg\n",
    "from nilearn import plotting as nplot\n",
    "from bids.layout import BIDSLayout \n",
    "#from bids import BIDSLayout \n",
    "%matplotlib inline "
   ]
  },
  {
   "cell_type": "markdown",
   "id": "e103976b",
   "metadata": {},
   "source": [
    "# Layout Setup"
   ]
  },
  {
   "cell_type": "code",
   "execution_count": null,
   "id": "56c9e5fa",
   "metadata": {},
   "outputs": [],
   "source": [
    "fmriprep_dir = '../data/ds000030/derivatives/fmriprep/'\n",
    "#also use pwd for fmriprep_dir\n",
    "\n",
    "layout=BIDSLayout(fmriprep_dir, validate=False,\n",
    "                  config=['bids','derivatives'])\n",
    "\n",
    "T1w_files = layout.get(subject='10788',\n",
    "                       datatype='anat', desc='preproc',\n",
    "                       space='MNI152NLin2009cAsym',\n",
    "                       extension='nii.gz',\n",
    "                      return_type='file')\n",
    "\n",
    "brainmask_files = layout.get(subject='10788',\n",
    "                             datatype='anat', suffix='mask',\n",
    "                             desc='brain',\n",
    "                             space='MNI152NLin2009cAsym',\n",
    "                             extension='nii.gz',\n",
    "                            return_type='file')\n",
    "\n",
    "func_files = layout.get(subject='10788',\n",
    "                        datatype='func', desc='preproc',\n",
    "                       space='MNI152NLin2009cAsym',\n",
    "                       extension='nii.gz',\n",
    "                       return_type='file')\n",
    "\n",
    "func_mask_files = layout.get(subject='10788',\n",
    "                             datatype='func', suffix='mask',\n",
    "                             desc='brain',\n",
    "                             space='MNI152NLin2009cAsym',\n",
    "                             extension='nii.gz',\n",
    "                            return_type='file')\n",
    "\n",
    "#layout.get_subjects() #to get all subjects \n",
    "\n",
    "#layout.get_tasks() #to get task during mri taken, rest or doing something"
   ]
  },
  {
   "cell_type": "markdown",
   "id": "0da2df80",
   "metadata": {},
   "source": [
    "# Image object Creation\n"
   ]
  },
  {
   "cell_type": "code",
   "execution_count": null,
   "id": "a175e587",
   "metadata": {},
   "outputs": [],
   "source": [
    "#structural image\n",
    "T1w_mni = T1w_files[0]\n",
    "T1w_mni_img = nimg.load_img(T1w_mni)\n",
    "\n",
    "#functional image\n",
    "func_mni = func_files[0]\n",
    "func_mni_img = nimg.load_img(func_mni)\n",
    "\n",
    "#brain mask\n",
    "bm_mni = brainmask_files[0]\n",
    "bm_mni_img = nimg.load_img(bm_mni)\n"
   ]
  },
  {
   "cell_type": "markdown",
   "id": "71745d5f",
   "metadata": {},
   "source": [
    "# MRI IMAGE VISUALIZATION\n",
    "\n",
    "## Anatomic Image Visualization \n",
    "### 1. simple image visualization\n"
   ]
  },
  {
   "cell_type": "code",
   "execution_count": null,
   "id": "2ec28dd5",
   "metadata": {},
   "outputs": [],
   "source": [
    "#Structural plot \n",
    "nplot.plot_anat(T1w_mni_img)\n",
    "\n",
    "# func image plot \n",
    "nplot.plot_epi(func_mni_img) #epi will show the clolor map\n",
    "#nplot.plot_anat(func_mni_img)\n",
    "\n",
    "#Brain mask plot \n",
    "nplot.plot_anat(bm_mni_img)"
   ]
  },
  {
   "cell_type": "markdown",
   "id": "b62ca743",
   "metadata": {},
   "source": [
    "### 2. slider image visualization\n"
   ]
  },
  {
   "cell_type": "code",
   "execution_count": null,
   "id": "955a7326",
   "metadata": {},
   "outputs": [],
   "source": [
    "nplot.view_img(T1w_mni_img, bg_img = False,cmap = 'Grey_s', symmetry_cmap = False, threshold = \"auto\")"
   ]
  },
  {
   "cell_type": "markdown",
   "id": "797abada",
   "metadata": {},
   "source": [
    "## Functional Image visualization \n",
    "### 1. simple image visualization\n"
   ]
  },
  {
   "cell_type": "code",
   "execution_count": null,
   "id": "9391c0d1",
   "metadata": {},
   "outputs": [],
   "source": []
  },
  {
   "cell_type": "markdown",
   "id": "325d6d02",
   "metadata": {},
   "source": [
    "### 2. slider image visualization\n"
   ]
  },
  {
   "cell_type": "code",
   "execution_count": null,
   "id": "1f886757",
   "metadata": {},
   "outputs": [],
   "source": []
  },
  {
   "cell_type": "markdown",
   "id": "4d50016b",
   "metadata": {},
   "source": [
    "### 3. Animated image visualization\n",
    "\n"
   ]
  },
  {
   "cell_type": "code",
   "execution_count": null,
   "id": "4776c610",
   "metadata": {},
   "outputs": [],
   "source": [
    "import matplotlib.animation\n",
    "from IPython.display import HTML\n",
    "\n",
    "%%capture\n",
    "%matplotlib inline\n",
    "\n",
    "#Resample the T1 to the size of the functional image!\n",
    "resamp_t1 = nimg.resample_to_img(source_img=T1_mni_img, target_img=func_mni_img, interpolation='continuous')\n",
    "fig, ax = plt.subplots()\n",
    "\n",
    "def animate(image):\n",
    "    nplot.plot_anat(image, figure=fig, cut_coords=(0,0,0))\n",
    "    ax.set_facecolor('black')\n",
    "    \n",
    "ani = matplotlib.animation.FuncAnimation(fig, animate, frames=[resamp_t1, T1_mni_img])\n",
    "# ani = matplotlib.animation.FuncAnimation(fig, animate, frames=[resamp_t1, func])\n",
    "\n",
    "# Display animation\n",
    "HTML(ani.to_jshtml())"
   ]
  },
  {
   "cell_type": "markdown",
   "id": "3e0854b6",
   "metadata": {},
   "source": [
    "### 4. Time series plot \n",
    "\n"
   ]
  },
  {
   "cell_type": "code",
   "execution_count": null,
   "id": "ea03d04f",
   "metadata": {},
   "outputs": [],
   "source": [
    "#preparing the single voxel\n",
    "\n",
    "single_vox = func_mni_img.slicer[59:60,45:46,30:31,:].get_data()\n",
    "single_vox.shape #just to show the shpae \n",
    "\n",
    "single_vox = single_vox.flatten() #to convert into 1D array\n",
    "single_vox.shape #(152,) 1D array"
   ]
  },
  {
   "cell_type": "markdown",
   "id": "1f80cb00",
   "metadata": {},
   "source": [
    "# Mask image visualization\n",
    "\n"
   ]
  },
  {
   "cell_type": "code",
   "execution_count": null,
   "id": "db34edb0",
   "metadata": {},
   "outputs": [],
   "source": []
  },
  {
   "cell_type": "markdown",
   "id": "ac8233d9",
   "metadata": {},
   "source": [
    "Problem solving"
   ]
  },
  {
   "cell_type": "code",
   "execution_count": null,
   "id": "b973297f",
   "metadata": {},
   "outputs": [],
   "source": [
    "#Structural Image \n",
    "#get the file of the structural image\n",
    "T1_mni = T1w_files[0]\n",
    "T1_mni_img = nimg.load_img(T1_mni)\n",
    "print(f\"T1w : {T1_mni_img.shape})\n",
    "\n",
    "#get the file of the brain mask structureal image\n",
    "bm_t1w = T1w_files[0]\n",
    "bm_t1w_img = nimg.load_img(bm_t1w)\n",
    "print(f\"T1W brain mask : {bm_t1w_img.shape})\n",
    "print(T1_mni_img.shape == bm_t1w_img.shape)\n",
    "\n",
    "\n",
    "#Functional Image \n",
    "#get the file of the functional image\n",
    "func_mni = T1w_files[0]\n",
    "func_mni_img = nimg.load_img(func_mni)\n",
    "##slicing functional image to 1st volume \n",
    "func_mni_img = func_mni_img.slicer[:,:,:,0]\n",
    "\n",
    "#checking resting state \n",
    "print(f\"func state : {func_mni.get_tasks()}\")\n",
    "print(f\"func : {func_mni_img.shape})\n",
    "\n",
    "#get the file of the functional brain mask image\n",
    "bm_func = T1w_files[0]\n",
    "bm_func_img = nimg.load_img(bm_func)\n",
    "print(f\"func brain mask : {bm_func_img.shape})\n",
    "print(func_mni_img.shape == bm_func_img.shape)\n",
    "\n",
    "\n",
    "\n",
    "#Masking\n",
    "#structural image masking \n",
    "invert_mask = nimg.math_img('1-a',a= bm_t1w_img)\n",
    "masked_T1_img = nimg.math_img('a * b',a = invert_mask, b= T1_mni_img)\n",
    "\n",
    "#functional image masking \n",
    "masked_func_img = nimg.math_img('a * b',a = bm_func_img, b= func_mni_img)\n",
    "\n",
    "#Resampling \n",
    "#resampling before adding \n",
    "resample_t1 = nimg.resample_to_img(source_img=T1_mni_img,target_img=func_mni_img,interpolation='continuous')\n",
    "\n",
    "print(resamp_t1.shape)\n",
    "print(func_mni_img.shape)\n",
    "\n",
    "#Final Masking \n",
    "result = nimg.math_img('a + b',a = resample_t1, b= masked_func_img)\n",
    "\n",
    "#Plotting \n",
    "nplot.plot_anat(result)\n",
    "#nplot.plot_epi(result) #epi will show the clolor map"
   ]
  },
  {
   "cell_type": "markdown",
   "id": "4d8fc88b",
   "metadata": {},
   "source": [
    "## Checking Image shape\n",
    "\n"
   ]
  },
  {
   "cell_type": "code",
   "execution_count": null,
   "id": "3653890b",
   "metadata": {},
   "outputs": [],
   "source": []
  },
  {
   "cell_type": "markdown",
   "id": "a7a275a8",
   "metadata": {},
   "source": [
    "## Slicing image \n"
   ]
  },
  {
   "cell_type": "markdown",
   "id": "c001e752",
   "metadata": {},
   "source": [
    "### T1W Image Slicing"
   ]
  },
  {
   "cell_type": "code",
   "execution_count": null,
   "id": "b7251647",
   "metadata": {},
   "outputs": [],
   "source": [
    "#1st Method of slicing using .slice function\n",
    "x_slice = T1w_mni_img.slice[10:11,:,:]\n",
    "\n",
    "#another method of slicing using plot \n",
    "nplot.plot_anat(t1w_img,cut_coords = (50,20,30))"
   ]
  },
  {
   "cell_type": "markdown",
   "id": "6e0e9de5",
   "metadata": {},
   "source": [
    "### fMRI image Slicing"
   ]
  },
  {
   "cell_type": "code",
   "execution_count": null,
   "id": "181acf92",
   "metadata": {},
   "outputs": [],
   "source": [
    "\n",
    "func_vol5 = func_mni_img.slicer[:,:,:,4]\n",
    "\n",
    "#animated version of plot with slider\n",
    "nplot.view_img(func_vol5)\n",
    "\n",
    "#it is better to use epi instead of anat \n",
    "nplot.plot_epi(func_vol5)\n",
    "\n",
    "#also we can show using the anat\n",
    "nplot.plot_anat(func_vol5)"
   ]
  },
  {
   "cell_type": "markdown",
   "id": "18206b27",
   "metadata": {},
   "source": [
    "## Resampling image \n",
    "\n"
   ]
  },
  {
   "cell_type": "code",
   "execution_count": null,
   "id": "037ef9c4",
   "metadata": {},
   "outputs": [],
   "source": []
  },
  {
   "cell_type": "markdown",
   "id": "d49b048a",
   "metadata": {},
   "source": [
    "## Masking \n",
    "- As per problem \n"
   ]
  },
  {
   "cell_type": "code",
   "execution_count": null,
   "id": "84a9effe",
   "metadata": {},
   "outputs": [],
   "source": []
  },
  {
   "cell_type": "markdown",
   "id": "873f6409",
   "metadata": {},
   "source": [
    "\n",
    "# MRI IMAGE CLEANING\n",
    "Note on - Cleaning or motion artifact \n",
    "## 1. MRI image before cleaning visualize\n"
   ]
  },
  {
   "cell_type": "code",
   "execution_count": null,
   "id": "5c901735",
   "metadata": {},
   "outputs": [],
   "source": [
    "#initial setup \n",
    "import os\n",
    "from nilearn import image as nimg\n",
    "from nilearn import plotting as nplot\n",
    "import matplotlib.pyplot as plt\n",
    "import numpy as np\n",
    "import nibabel as nib\n",
    "import bids\n",
    "%matplotlib inline\n",
    "\n",
    "import pandas as pd"
   ]
  },
  {
   "cell_type": "code",
   "execution_count": null,
   "id": "29bbb0e5",
   "metadata": {},
   "outputs": [],
   "source": [
    "sub = '10788'\n",
    "fmriprep_dir = '../data/ds000030/derivatives/fmriprep/'\n",
    "layout = bids.BIDSLayout(fmriprep_dir,validate=False,\n",
    "                        config=['bids','derivatives'])"
   ]
  },
  {
   "cell_type": "code",
   "execution_count": null,
   "id": "6608e2f0",
   "metadata": {},
   "outputs": [],
   "source": [
    "func_files = layout.get(subject=sub,\n",
    "                        datatype='func', task='rest',\n",
    "                        desc='preproc',\n",
    "                        space='MNI152NLin2009cAsym',\n",
    "                        extension='nii.gz',\n",
    "                       return_type='file')\n",
    "\n",
    "mask_files = layout.get(subject=sub,\n",
    "                        datatype='func', task='rest',\n",
    "                        desc='brain',\n",
    "                        suffix='mask',\n",
    "                        space='MNI152NLin2009cAsym',\n",
    "                        extension=\"nii.gz\",\n",
    "                       return_type='file')\n",
    "\n",
    "confound_files = layout.get(subject=sub,\n",
    "                            datatype='func', task='rest',\n",
    "                            desc='confounds',\n",
    "                           extension=\"tsv\",\n",
    "                           return_type='file')\n"
   ]
  },
  {
   "cell_type": "markdown",
   "id": "462748c0",
   "metadata": {},
   "source": [
    "**Selecting Files**"
   ]
  },
  {
   "cell_type": "code",
   "execution_count": null,
   "id": "550b6d5e",
   "metadata": {},
   "outputs": [],
   "source": [
    "#selecting files\n",
    "func_file = func_files[0]\n",
    "mask_file = mask_files[0]\n",
    "confound_file = confound_files[0]"
   ]
  },
  {
   "cell_type": "markdown",
   "id": "7e44fae6",
   "metadata": {},
   "source": [
    "**Display Confound file**"
   ]
  },
  {
   "cell_type": "code",
   "execution_count": null,
   "id": "d50bf5c5",
   "metadata": {},
   "outputs": [],
   "source": [
    "#display counfound file \n",
    "# Using \\t since it is tab-separated\n",
    "confound_df = pd.read_csv(confound_file,delimiter='\\t')\n",
    "confound_df.head()\n",
    "\n",
    "#confound variables \n",
    "##selecting confound variables \n",
    "confound_vars = ['trans_x','trans_y','trans_z',\n",
    "                 'rot_x','rot_y','rot_z',\n",
    "                 'global_signal',\n",
    "                 'csf', 'white_matter']\n",
    "##derivative variables \n",
    "derivative_columns = ['{}_derivative1'.format(c) for c\n",
    "                     in confound_vars]\n",
    "\n",
    "##final confound variables \n",
    "final_confounds = confound_vars + derivative_columns\n",
    "\n",
    "#print\n",
    "##confound_vars\n",
    "print(f\"confound list : \\n {confound_vars}\")\n",
    "\n",
    "##derivative columns\n",
    "print(f\"derivative list : \\n {derivative_columns}\")\n",
    "\n",
    "##final list \n",
    "print(f\"Final Confound list : \\n {final_confounds}\")\n",
    "\n",
    "#pop out columns using confound variables \n",
    "confound_df = confound_df[final_confounds]\n",
    "confound_df.head()"
   ]
  },
  {
   "cell_type": "markdown",
   "id": "a593350f",
   "metadata": {},
   "source": [
    "### Dropping 3TRs "
   ]
  },
  {
   "cell_type": "code",
   "execution_count": null,
   "id": "2b1821c6",
   "metadata": {},
   "outputs": [],
   "source": [
    "#Drop confound dummy TRs\n",
    "\n",
    "#dropping 4 TR in dataframe \n",
    "drop_confound_df = confound_df.loc[4:]\n",
    "print(drop_confound_df.shape) #number of rows should match that of the functional image\n",
    "drop_confound_df.head()\n",
    "\n",
    "#Raw image \n",
    "raw_func_img = nimg.load_img(func_file)\n",
    "raw_func_img.shape\n",
    "\n",
    "#final image after dropping 4 TRs\n",
    "func_img = raw_func_img.slicer[:,:,:,4:]\n",
    "func_img.shape"
   ]
  },
  {
   "cell_type": "markdown",
   "id": "81fd3f21",
   "metadata": {},
   "source": [
    "### Confound Regression\n",
    "**Matrix Setup**"
   ]
  },
  {
   "cell_type": "code",
   "execution_count": null,
   "id": "156d2b43",
   "metadata": {},
   "outputs": [],
   "source": [
    "#Creating the confound matrix \n",
    "##get only the values like numpy array\n",
    "##drop the header \n",
    "confounds_matrix = drop_confound_df.values\n"
   ]
  },
  {
   "cell_type": "markdown",
   "id": "60a5be64",
   "metadata": {},
   "source": [
    "**Filter Value Setup**"
   ]
  },
  {
   "cell_type": "code",
   "execution_count": null,
   "id": "8f6e470b",
   "metadata": {},
   "outputs": [],
   "source": [
    "#Set some constants\n",
    "high_pass= 0.009\n",
    "low_pass = 0.08\n",
    "t_r = 2"
   ]
  },
  {
   "cell_type": "markdown",
   "id": "30875800",
   "metadata": {},
   "source": [
    "**Applying Confound Regression**"
   ]
  },
  {
   "cell_type": "code",
   "execution_count": null,
   "id": "e1da4ae8",
   "metadata": {},
   "outputs": [],
   "source": [
    "clean_img = nimg.clean_img(func_img,confounds=confounds_matrix,detrend=True,standardize=True,\n",
    "                         low_pass=low_pass,high_pass=high_pass,t_r=t_r, mask_img=mask_file)"
   ]
  },
  {
   "cell_type": "markdown",
   "id": "7b417482",
   "metadata": {},
   "source": [
    "**Plotting**"
   ]
  },
  {
   "cell_type": "code",
   "execution_count": null,
   "id": "87b24ea6",
   "metadata": {},
   "outputs": [],
   "source": [
    "#epi plot \n",
    "nplot.plot_epi(clean_img.slicer[:,:,:,50])\n",
    "\n",
    "#anat plot \n",
    "nplot.plot_anat(clean_img.slicer[:,:,:,50])\n",
    "\n",
    "#Anmated plot \n",
    "##signle time point image\n",
    "clean_img_slider = clean_img.slicer[:,:,:,50]\n",
    "##plot using slider \n",
    "nplot.view_img(clean_img_slider, bg_img = False,cmap = 'Grey_s', symmetry_cmap = False, threshold = \"auto\")"
   ]
  },
  {
   "cell_type": "markdown",
   "id": "3c458b7e",
   "metadata": {},
   "source": [
    "## 2. MRI image after cleaning visualization\n",
    " \n"
   ]
  },
  {
   "cell_type": "markdown",
   "id": "4fc4a2bf",
   "metadata": {},
   "source": [
    "\n",
    "# MRI IMAGE PARCELLATION\n",
    "## 1. Parcellation note\n"
   ]
  },
  {
   "cell_type": "markdown",
   "id": "75ec0f41",
   "metadata": {},
   "source": [
    "**Importing Modules**"
   ]
  },
  {
   "cell_type": "code",
   "execution_count": null,
   "id": "3e9d0d5b",
   "metadata": {},
   "outputs": [],
   "source": [
    "from nilearn import datasets\n",
    "from nilearn import image as nimg\n",
    "from nilearn import plotting as nplot\n",
    "\n",
    "#for inline visualization in jupyter notebook\n",
    "%matplotlib inline"
   ]
  },
  {
   "cell_type": "markdown",
   "id": "71eb4fa6",
   "metadata": {},
   "source": [
    "**Dataset**"
   ]
  },
  {
   "cell_type": "code",
   "execution_count": null,
   "id": "374f4599",
   "metadata": {},
   "outputs": [],
   "source": [
    "parcel_dir = '../resources/rois/' \n",
    "atlas_yeo_2011 = datasets.fetch_atlas_yeo_2011(parcel_dir)"
   ]
  },
  {
   "cell_type": "markdown",
   "id": "f6c5438f",
   "metadata": {},
   "source": [
    "**Yeo2011 et. al. Labels**"
   ]
  },
  {
   "cell_type": "code",
   "execution_count": null,
   "id": "66f5c916",
   "metadata": {},
   "outputs": [],
   "source": [
    "atlas_yeo_2011.keys()\n"
   ]
  },
  {
   "cell_type": "code",
   "execution_count": null,
   "id": "acc52f61",
   "metadata": {},
   "outputs": [],
   "source": []
  },
  {
   "cell_type": "markdown",
   "id": "45835a27",
   "metadata": {},
   "source": [
    "## 2. Parcellation program - just one (as visaulzation) "
   ]
  },
  {
   "cell_type": "code",
   "execution_count": null,
   "id": "ad784d36",
   "metadata": {},
   "outputs": [],
   "source": [
    "cut_coords = (8, -4 ,9)\n",
    "colorbar=True\n",
    "cmap = 'Paired'\n",
    "\n",
    "nplot.plot_roi(atlas_yeo_2011['thin_7'], cut_coords=cut_coords, colorbar=colorbar, cmap=cmap, title='thin_7')\n",
    "nplot.plot_roi(atlas_yeo_2011['thin_17'], cut_coords=cut_coords, colorbar=colorbar, cmap=cmap, title='thin_17')\n",
    "nplot.plot_roi(atlas_yeo_2011['thick_7'], cut_coords=cut_coords, colorbar=colorbar, cmap=cmap, title='thick_7')\n",
    "nplot.plot_roi(atlas_yeo_2011['thick_17'], cut_coords=cut_coords, colorbar=colorbar, cmap=cmap, title='thick_17')"
   ]
  },
  {
   "cell_type": "markdown",
   "id": "ceca857e",
   "metadata": {},
   "source": [
    "**Problems in Yeo2011 Brain network**"
   ]
  },
  {
   "cell_type": "code",
   "execution_count": null,
   "id": "e613c29a",
   "metadata": {},
   "outputs": [],
   "source": [
    "atlas_yeo = atlas_yeo_2011['thick_7']"
   ]
  },
  {
   "cell_type": "code",
   "execution_count": null,
   "id": "80d9d7fa",
   "metadata": {},
   "outputs": [],
   "source": [
    "Defining new network"
   ]
  },
  {
   "cell_type": "code",
   "execution_count": null,
   "id": "901cbcb3",
   "metadata": {},
   "outputs": [],
   "source": [
    "from nilearn.regions import connected_label_regions\n",
    "\n",
    "region_labels = connected_label_regions(atlas_yeo)\n",
    "nplot.plot_roi(region_labels,\n",
    "              cut_coords=(-20, -10, 0, 10, 20, 30, 40, 50, 60, 70),\n",
    "              display_mode='z',\n",
    "              colorbar=True,\n",
    "              cmap='Paired',\n",
    "              title='Relabeled Yeo Atlas')"
   ]
  },
  {
   "cell_type": "markdown",
   "id": "f4da2d29",
   "metadata": {},
   "source": [
    "Saving to new file"
   ]
  },
  {
   "cell_type": "code",
   "execution_count": null,
   "id": "f0f33f09",
   "metadata": {},
   "outputs": [],
   "source": [
    "region_labels.to_filename('../resources/rois/yeo_2011/Yeo_JNeurophysiol11_MNI152/relabeled_yeo_atlas.nii.gz')"
   ]
  }
 ],
 "metadata": {
  "kernelspec": {
   "display_name": "Python 3",
   "language": "python",
   "name": "python3"
  },
  "language_info": {
   "codemirror_mode": {
    "name": "ipython",
    "version": 3
   },
   "file_extension": ".py",
   "mimetype": "text/x-python",
   "name": "python",
   "nbconvert_exporter": "python",
   "pygments_lexer": "ipython3",
   "version": "3.8.8"
  }
 },
 "nbformat": 4,
 "nbformat_minor": 5
}
