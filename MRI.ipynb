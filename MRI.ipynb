{
 "cells": [
  {
   "cell_type": "markdown",
   "id": "8b5900fb",
   "metadata": {},
   "source": [
    "# MRI IMAGE VISUALIZATION\n",
    "\n",
    "## Anatomic Image Visualization \n",
    "### 1. simple image visualization\n"
   ]
  },
  {
   "cell_type": "code",
   "execution_count": null,
   "id": "a2b022d2",
   "metadata": {},
   "outputs": [],
   "source": []
  },
  {
   "cell_type": "markdown",
   "id": "ca70e81b",
   "metadata": {},
   "source": [
    "### 2. slider image visualization\n"
   ]
  },
  {
   "cell_type": "code",
   "execution_count": null,
   "id": "0508328d",
   "metadata": {},
   "outputs": [],
   "source": []
  },
  {
   "cell_type": "markdown",
   "id": "5bee453e",
   "metadata": {},
   "source": [
    "### 3. Animated image visualization\n",
    "\n"
   ]
  },
  {
   "cell_type": "code",
   "execution_count": null,
   "id": "2713af34",
   "metadata": {},
   "outputs": [],
   "source": []
  },
  {
   "cell_type": "markdown",
   "id": "2eadeede",
   "metadata": {},
   "source": [
    "## Functional Image visualization \n",
    "### 1. simple image visualization\n"
   ]
  },
  {
   "cell_type": "code",
   "execution_count": null,
   "id": "0a42367a",
   "metadata": {},
   "outputs": [],
   "source": []
  },
  {
   "cell_type": "markdown",
   "id": "1cb9d0f9",
   "metadata": {},
   "source": [
    "### 2. slider image visualization\n"
   ]
  },
  {
   "cell_type": "code",
   "execution_count": null,
   "id": "3275992c",
   "metadata": {},
   "outputs": [],
   "source": []
  },
  {
   "cell_type": "markdown",
   "id": "1f25b182",
   "metadata": {},
   "source": [
    "### 3. Animated image visualization\n"
   ]
  },
  {
   "cell_type": "code",
   "execution_count": null,
   "id": "28520e75",
   "metadata": {},
   "outputs": [],
   "source": []
  },
  {
   "cell_type": "markdown",
   "id": "c6fd6331",
   "metadata": {},
   "source": [
    "### 4. Time series plot \n",
    "\n"
   ]
  },
  {
   "cell_type": "code",
   "execution_count": null,
   "id": "47fd719e",
   "metadata": {},
   "outputs": [],
   "source": []
  },
  {
   "cell_type": "markdown",
   "id": "5d4f489c",
   "metadata": {},
   "source": [
    "# Mask image visualization\n",
    "\n"
   ]
  },
  {
   "cell_type": "code",
   "execution_count": null,
   "id": "01acaf7c",
   "metadata": {},
   "outputs": [],
   "source": []
  },
  {
   "cell_type": "markdown",
   "id": "11ff5538",
   "metadata": {},
   "source": [
    "## Checking Image shape\n",
    "\n"
   ]
  },
  {
   "cell_type": "code",
   "execution_count": null,
   "id": "f5d64ca3",
   "metadata": {},
   "outputs": [],
   "source": []
  },
  {
   "cell_type": "markdown",
   "id": "7e4753a6",
   "metadata": {},
   "source": [
    "## Slicing image \n",
    "\n"
   ]
  },
  {
   "cell_type": "code",
   "execution_count": null,
   "id": "bf4a33de",
   "metadata": {},
   "outputs": [],
   "source": []
  },
  {
   "cell_type": "markdown",
   "id": "d74ece5a",
   "metadata": {},
   "source": [
    "## Resampling image \n",
    "\n"
   ]
  },
  {
   "cell_type": "code",
   "execution_count": null,
   "id": "924e63de",
   "metadata": {},
   "outputs": [],
   "source": []
  },
  {
   "cell_type": "markdown",
   "id": "090e7b96",
   "metadata": {},
   "source": [
    "## Masking \n",
    "- As per problem \n"
   ]
  },
  {
   "cell_type": "code",
   "execution_count": null,
   "id": "cb89f870",
   "metadata": {},
   "outputs": [],
   "source": []
  },
  {
   "cell_type": "markdown",
   "id": "7c23351f",
   "metadata": {},
   "source": [
    "\n",
    "# MRI IMAGE CLEANING\n",
    "Note on - Cleaning or motion artifact \n",
    "## 1. MRI image before cleaning visualize\n"
   ]
  },
  {
   "cell_type": "code",
   "execution_count": null,
   "id": "5d63d68b",
   "metadata": {},
   "outputs": [],
   "source": []
  },
  {
   "cell_type": "markdown",
   "id": "c6b97f53",
   "metadata": {},
   "source": [
    "## 2. MRI image after cleaning visualization\n",
    " \n"
   ]
  },
  {
   "cell_type": "code",
   "execution_count": null,
   "id": "9e284564",
   "metadata": {},
   "outputs": [],
   "source": []
  },
  {
   "cell_type": "markdown",
   "id": "7d6e9685",
   "metadata": {},
   "source": [
    "\n",
    "# MRI IMAGE PARCELLATION\n",
    "## 1. Parcellation note\n"
   ]
  },
  {
   "cell_type": "code",
   "execution_count": null,
   "id": "093f4c48",
   "metadata": {},
   "outputs": [],
   "source": []
  },
  {
   "cell_type": "markdown",
   "id": "cfa562b6",
   "metadata": {},
   "source": [
    "## 2. Parcellation program - just one (as visaulzation) "
   ]
  },
  {
   "cell_type": "code",
   "execution_count": null,
   "id": "4e3e24fb",
   "metadata": {},
   "outputs": [],
   "source": []
  }
 ],
 "metadata": {
  "kernelspec": {
   "display_name": "Python 3",
   "language": "python",
   "name": "python3"
  },
  "language_info": {
   "codemirror_mode": {
    "name": "ipython",
    "version": 3
   },
   "file_extension": ".py",
   "mimetype": "text/x-python",
   "name": "python",
   "nbconvert_exporter": "python",
   "pygments_lexer": "ipython3",
   "version": "3.8.8"
  }
 },
 "nbformat": 4,
 "nbformat_minor": 5
}
